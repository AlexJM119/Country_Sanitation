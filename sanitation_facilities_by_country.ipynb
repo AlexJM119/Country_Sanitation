{
 "cells": [
  {
   "cell_type": "code",
   "execution_count": 1,
   "metadata": {},
   "outputs": [],
   "source": [
    "import pandas as pd\n",
    "import matplotlib.pyplot as plt"
   ]
  },
  {
   "cell_type": "code",
   "execution_count": 2,
   "metadata": {},
   "outputs": [
    {
     "data": {
      "text/plain": [
       "'1.1.5'"
      ]
     },
     "execution_count": 2,
     "metadata": {},
     "output_type": "execute_result"
    }
   ],
   "source": [
    "pd.__version__"
   ]
  },
  {
   "cell_type": "code",
   "execution_count": 3,
   "metadata": {},
   "outputs": [],
   "source": [
    "data = pd.read_csv('share-of-the-population-with-access-to-sanitation-facilities.csv')"
   ]
  },
  {
   "cell_type": "code",
   "execution_count": 4,
   "metadata": {},
   "outputs": [],
   "source": [
    "data = data.drop(labels='Code', axis=1)"
   ]
  },
  {
   "cell_type": "code",
   "execution_count": 5,
   "metadata": {},
   "outputs": [],
   "source": [
    "paraguay = data[data.Entity == 'Paraguay']\n",
    "par = paraguay[paraguay.Year == 2020]\n",
    "venezuela = data[data.Entity == 'Venezuela']\n",
    "ven = venezuela[venezuela.Year == 2020]\n",
    "yemen = data[data.Entity == 'Yemen']\n",
    "yem = yemen[yemen.Year == 2020]"
   ]
  },
  {
   "cell_type": "code",
   "execution_count": 6,
   "metadata": {},
   "outputs": [],
   "source": [
    "san_data = pd.concat([par, ven, yem])"
   ]
  },
  {
   "cell_type": "code",
   "execution_count": 8,
   "metadata": {},
   "outputs": [],
   "source": [
    "Countries = ['Paraguay','Venezuela','Yemen']\n",
    "SM = san_data['san_sm'].values\n",
    "BAS = san_data['san_bas_minus_sm'].values\n",
    "LIM = san_data['san_lim'].values\n",
    "UNIMP = san_data['san_unimp'].values\n",
    "OD = san_data['san_od'].values"
   ]
  },
  {
   "cell_type": "code",
   "execution_count": 9,
   "metadata": {},
   "outputs": [
    {
     "data": {
      "text/plain": [
       "<matplotlib.legend.Legend at 0x7ff7e72c1e80>"
      ]
     },
     "execution_count": 9,
     "metadata": {},
     "output_type": "execute_result"
    },
    {
     "data": {
      "image/png": "[encoded data removed]",
      "text/plain": [
       "<Figure size 432x288 with 1 Axes>"
      ]
     },
     "metadata": {
      "needs_background": "light"
     },
     "output_type": "display_data"
    }
   ],
   "source": [
    "plt.bar(Countries, SM, label='Safely Managed')\n",
    "plt.bar(Countries, BAS, bottom=SM, label='Basic')\n",
    "plt.bar(Countries, LIM, bottom=BAS+SM, label='Limited')\n",
    "plt.bar(Countries, UNIMP, bottom=LIM+BAS+SM, label='Unimproved')\n",
    "plt.bar(Countries, OD, bottom=UNIMP+LIM+BAS+SM, label='Open Defecation')\n",
    "\n",
    "plt.title('Access to sanitation by country')\n",
    "plt.xlabel('Countries')\n",
    "plt.ylabel('Percentage of poplutation')\n",
    "plt.legend()"
   ]
  },
  {
   "cell_type": "code",
   "execution_count": null,
   "metadata": {},
   "outputs": [],
   "source": []
  }
 ],
 "metadata": {
  "kernelspec": {
   "display_name": "Python 3",
   "language": "python",
   "name": "python3"
  },
  "language_info": {
   "codemirror_mode": {
    "name": "ipython",
    "version": 3
   },
   "file_extension": ".py",
   "mimetype": "text/x-python",
   "name": "python",
   "nbconvert_exporter": "python",
   "pygments_lexer": "ipython3",
   "version": "3.6.9"
  }
 },
 "nbformat": 4,
 "nbformat_minor": 2
}
